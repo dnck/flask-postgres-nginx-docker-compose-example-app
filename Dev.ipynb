{
 "cells": [
  {
   "cell_type": "code",
   "execution_count": 60,
   "metadata": {},
   "outputs": [],
   "source": [
    "\"\"\"\n",
    "Initialization and schemas for the database\n",
    "\"\"\"\n",
    "import datetime\n",
    "\n",
    "import psycopg2\n",
    "\n",
    "from psycopg2.extensions import ISOLATION_LEVEL_AUTOCOMMIT\n",
    "\n",
    "\n",
    "DB_USER = \"postgres\"\n",
    "DB_PASS = \"entropy09\"\n",
    "DB_HOST = \"db\"\n",
    "DB_PORT = \"5432\"\n",
    "DB_NAME = \"planet\"\n",
    "DB_TABLE_NAME = \"routes\"\n",
    "\n",
    "# Need to add the appropriate types here\n",
    "CREATE_TABLE_SCRIPT = \"\"\"\n",
    "    CREATE TABLE {} (\n",
    "    route_id SERIAL,\n",
    "    timestamp TIMESTAMP,\n",
    "    route_length REAL\n",
    "    );\n",
    "    \"\"\".format(\n",
    "    DB_TABLE_NAME\n",
    ")\n",
    "\n",
    "ADD_POSTGIS_EXT_TO_DB_SCRIPT = \"CREATE EXTENSION IF NOT EXISTS postgis\"\n",
    "\n",
    "ADD_GEOM_COLUMN_TO_TABLE_SCRIPT = (\n",
    "    \"SELECT AddGeometryColumn('public', 'routes', 'geom', 4326, 'POINT', 2);\"\n",
    ")\n",
    "\n",
    "NEW_ROUTE_ID_SCRIPT = \"SELECT max(route_id) + 1 FROM routes;\"\n",
    "\n",
    "UPDATE_ROUTE_SCRIPT = \"INSERT INTO routes (route_id, timestamp, geom) VALUES ({}, now(), 'SRID=4326; POINT({} {})');\"\n",
    "\n",
    "COLLECT_POINTS_IN_ROUTE_SCRIPT = \"SELECT * FROM routes WHERE route_id = {} AND geom IS NOT NULL ORDER BY timestamp;;\"\n",
    "\n",
    "COLLECT_ROUTES_IN_DAY = \"\"\"SELECT * FROM routes WHERE timestamp BETWEEN '{}' and '{}'::date + interval '24 hours' AND geom IS NOT NULL;\"\"\"\n",
    "\n",
    "def create_new_database():\n",
    "    conn = psycopg2.connect(\n",
    "        \"dbname=postgres user={} password={}\".format(DB_USER, DB_PASS)\n",
    "    )\n",
    "    conn.set_isolation_level(ISOLATION_LEVEL_AUTOCOMMIT)\n",
    "    cur = conn.cursor()\n",
    "    cur.execute(\"CREATE DATABASE {};\".format(DB_NAME))\n",
    "    close_and_commit(cur, conn)\n",
    "\n",
    "\n",
    "def activate_pg_extensions(ext_script):\n",
    "    conn = psycopg2.connect(\n",
    "        \"dbname={} user={} password={}\".format(DB_NAME, DB_USER, DB_PASS)\n",
    "    )\n",
    "    cur = conn.cursor()\n",
    "    cur.execute(ext_script)\n",
    "    close_and_commit(cur, conn)\n",
    "\n",
    "\n",
    "def create_table():\n",
    "    conn = psycopg2.connect(\n",
    "        \"dbname={} user={} password={}\".format(DB_NAME, DB_USER, DB_PASS)\n",
    "    )\n",
    "    cur = conn.cursor()\n",
    "    cur.execute(CREATE_TABLE_SCRIPT)\n",
    "    close_and_commit(cur, conn)\n",
    "\n",
    "\n",
    "def add_geometry_column():\n",
    "    conn = psycopg2.connect(\n",
    "        \"dbname={} user={} password={}\".format(DB_NAME, DB_USER, DB_PASS)\n",
    "    )\n",
    "    cur = conn.cursor()\n",
    "    cur.execute(ADD_GEOM_COLUMN_TO_TABLE_SCRIPT)\n",
    "    close_and_commit(cur, conn)\n",
    "\n",
    "# TODO: implement and test against what was supplied\n",
    "# After pass test, move on to attack second question.\n",
    "# Dockerfile will just be the Postgres and the Flask app communicating with one another \n",
    "# BUt, we will need to allow for external communication to the Flask app, maybe add nginx as a server?\n",
    "def calculate_distance_between_points():\n",
    "    # -- SELECT ST_Distance_Spheroid(geometry(a.geom), geometry(b.geom)) / 1000. as km\n",
    "    # -- FROM test a, test b\n",
    "    # -- WHERE a.name='Point1' AND b.name='Point2';\n",
    "    pass\n",
    "\n",
    "\n",
    "def create_new_route():\n",
    "    \"\"\"\n",
    "    Gets a new route ID, and commits this to the db \n",
    "    Returns new route id for the user\n",
    "    \"\"\"\n",
    "    conn = psycopg2.connect(\n",
    "        \"dbname={} user={} password={}\".format(DB_NAME, DB_USER, DB_PASS)\n",
    "    )\n",
    "    cur = conn.cursor()\n",
    "    cur.execute(NEW_ROUTE_ID_SCRIPT)\n",
    "    new_route_id = cur.fetchone()\n",
    "    if str(new_route_id[0]) == 'None': # TODO test if we need the conversion here\n",
    "        cur.execute(\"INSERT INTO routes (route_id, timestamp) VALUES (0, now());\")\n",
    "        close_and_commit(cur, conn)\n",
    "        return {\"route_id\": 0}\n",
    "    cur.execute(\"INSERT INTO routes (route_id, timestamp) VALUES ({}, now());\".format(new_route_id[0]))\n",
    "    close_and_commit(cur, conn)\n",
    "    return {\"route_id\": str(new_route_id[0])}\n",
    "\n",
    "\n",
    "def update_route(route_id, longitude, latitude):\n",
    "    \"\"\"\n",
    "    Handles date internally\n",
    "    \"\"\"\n",
    "    #   date = datetime.datetime.today().strftime(\"%d-%m-%Y\")\n",
    "    conn = psycopg2.connect(\n",
    "        \"dbname={} user={} password={}\".format(DB_NAME, DB_USER, DB_PASS)\n",
    "    )\n",
    "    cur = conn.cursor()\n",
    "    cur.execute(UPDATE_ROUTE_SCRIPT.format(route_id, longitude, latitude))\n",
    "    close_and_commit(cur, conn)\n",
    "\n",
    "def close_and_commit(cur, conn):\n",
    "    cur.close()\n",
    "    conn.commit()\n",
    "    conn.close()\n",
    "    \n",
    "def given_date_query_orders_correctly(date):\n",
    "    conn = psycopg2.connect(\n",
    "        \"dbname={} user={} password={}\".format(DB_NAME, DB_USER, DB_PASS)\n",
    "    )\n",
    "    cur = conn.cursor()\n",
    "    cur.execute(COLLECT_ROUTES_IN_DAY.format(date, date))\n",
    "    results = cur.fetchall()\n",
    "    close_and_commit(cur, conn)\n",
    "    return results \n",
    "\n",
    "def collect_points_in_route(route_id):\n",
    "    conn = psycopg2.connect(\n",
    "        \"dbname={} user={} password={}\".format(DB_NAME, DB_USER, DB_PASS)\n",
    "    )\n",
    "    cur = conn.cursor()\n",
    "    cur.execute(COLLECT_POINTS_IN_ROUTE_SCRIPT.format(route_id))\n",
    "    results = cur.fetchall()\n",
    "    close_and_commit(cur, conn)\n",
    "    return results \n"
   ]
  },
  {
   "cell_type": "code",
   "execution_count": 2,
   "metadata": {},
   "outputs": [],
   "source": [
    "create_new_database()\n",
    "activate_pg_extensions(ADD_POSTGIS_EXT_TO_DB_SCRIPT)\n",
    "create_table()\n",
    "add_geometry_column()"
   ]
  },
  {
   "cell_type": "code",
   "execution_count": 11,
   "metadata": {},
   "outputs": [
    {
     "data": {
      "text/plain": [
       "{'route_id': '2'}"
      ]
     },
     "execution_count": 11,
     "metadata": {},
     "output_type": "execute_result"
    }
   ],
   "source": [
    "create_new_route()"
   ]
  },
  {
   "cell_type": "code",
   "execution_count": 4,
   "metadata": {},
   "outputs": [],
   "source": [
    "conn = psycopg2.connect(\n",
    "    \"dbname={} user={} password={}\".format(DB_NAME, DB_USER, DB_PASS)\n",
    ")"
   ]
  },
  {
   "cell_type": "code",
   "execution_count": 5,
   "metadata": {},
   "outputs": [],
   "source": [
    "cur = conn.cursor()"
   ]
  },
  {
   "cell_type": "code",
   "execution_count": 12,
   "metadata": {},
   "outputs": [],
   "source": [
    "cur.execute(\"select * from routes;\")"
   ]
  },
  {
   "cell_type": "code",
   "execution_count": 13,
   "metadata": {},
   "outputs": [
    {
     "data": {
      "text/plain": [
       "[(0, datetime.datetime(2019, 8, 9, 19, 11, 55, 671940), None),\n",
       " (1, datetime.datetime(2019, 8, 9, 19, 12, 21, 559135), None),\n",
       " (2, datetime.datetime(2019, 8, 9, 19, 12, 32, 125507), None)]"
      ]
     },
     "execution_count": 13,
     "metadata": {},
     "output_type": "execute_result"
    }
   ],
   "source": [
    "cur.fetchall()"
   ]
  },
  {
   "cell_type": "code",
   "execution_count": 20,
   "metadata": {},
   "outputs": [],
   "source": [
    "update_route(2, 50.273901, 20.591889)"
   ]
  },
  {
   "cell_type": "code",
   "execution_count": 53,
   "metadata": {},
   "outputs": [],
   "source": [
    "cur.execute(\"select * from routes;\")"
   ]
  },
  {
   "cell_type": "code",
   "execution_count": 54,
   "metadata": {},
   "outputs": [
    {
     "data": {
      "text/plain": [
       "[(0, datetime.datetime(2019, 8, 9, 19, 11, 55, 671940), None),\n",
       " (1, datetime.datetime(2019, 8, 9, 19, 12, 21, 559135), None),\n",
       " (2, datetime.datetime(2019, 8, 9, 19, 12, 32, 125507), None),\n",
       " (2,\n",
       "  datetime.datetime(2019, 8, 9, 19, 13, 9, 387273),\n",
       "  '0101000020E6100000BDAB1E300F234A40B5DC990986973240'),\n",
       " (2,\n",
       "  datetime.datetime(2019, 8, 9, 19, 14, 7, 764402),\n",
       "  '0101000020E6100000BDAB1E300FA34940B5DC990986973340'),\n",
       " (2,\n",
       "  datetime.datetime(2019, 8, 9, 19, 14, 14, 796710),\n",
       "  '0101000020E6100000BDAB1E300F234940B5DC990986973440'),\n",
       " (5, datetime.datetime(2019, 11, 11, 19, 11, 55, 156537), None)]"
      ]
     },
     "execution_count": 54,
     "metadata": {},
     "output_type": "execute_result"
    }
   ],
   "source": [
    "cur.fetchall()"
   ]
  },
  {
   "cell_type": "code",
   "execution_count": 38,
   "metadata": {},
   "outputs": [],
   "source": [
    "cur.execute(COLLECT_POINTS_IN_ROUTE_SCRIPT.format(2))"
   ]
  },
  {
   "cell_type": "code",
   "execution_count": 39,
   "metadata": {},
   "outputs": [],
   "source": [
    "route_2 = cur.fetchall()"
   ]
  },
  {
   "cell_type": "code",
   "execution_count": 62,
   "metadata": {},
   "outputs": [
    {
     "data": {
      "text/plain": [
       "[(2,\n",
       "  datetime.datetime(2019, 8, 9, 19, 13, 9, 387273),\n",
       "  '0101000020E6100000BDAB1E300F234A40B5DC990986973240'),\n",
       " (2,\n",
       "  datetime.datetime(2019, 8, 9, 19, 14, 7, 764402),\n",
       "  '0101000020E6100000BDAB1E300FA34940B5DC990986973340'),\n",
       " (2,\n",
       "  datetime.datetime(2019, 8, 9, 19, 14, 14, 796710),\n",
       "  '0101000020E6100000BDAB1E300F234940B5DC990986973440')]"
      ]
     },
     "execution_count": 62,
     "metadata": {},
     "output_type": "execute_result"
    }
   ],
   "source": [
    "route_2"
   ]
  },
  {
   "cell_type": "code",
   "execution_count": 42,
   "metadata": {},
   "outputs": [
    {
     "data": {
      "text/plain": [
       "['0101000020E6100000BDAB1E300F234A40B5DC990986973240',\n",
       " '0101000020E6100000BDAB1E300FA34940B5DC990986973340',\n",
       " '0101000020E6100000BDAB1E300F234940B5DC990986973440']"
      ]
     },
     "execution_count": 42,
     "metadata": {},
     "output_type": "execute_result"
    }
   ],
   "source": [
    "[i[2] for i in route_2]"
   ]
  },
  {
   "cell_type": "code",
   "execution_count": 61,
   "metadata": {},
   "outputs": [
    {
     "data": {
      "text/plain": [
       "[(2,\n",
       "  datetime.datetime(2019, 8, 9, 19, 13, 9, 387273),\n",
       "  '0101000020E6100000BDAB1E300F234A40B5DC990986973240'),\n",
       " (2,\n",
       "  datetime.datetime(2019, 8, 9, 19, 14, 7, 764402),\n",
       "  '0101000020E6100000BDAB1E300FA34940B5DC990986973340'),\n",
       " (2,\n",
       "  datetime.datetime(2019, 8, 9, 19, 14, 14, 796710),\n",
       "  '0101000020E6100000BDAB1E300F234940B5DC990986973440')]"
      ]
     },
     "execution_count": 61,
     "metadata": {},
     "output_type": "execute_result"
    }
   ],
   "source": [
    "given_date_query_orders_correctly(\"2019-08-09\")"
   ]
  },
  {
   "cell_type": "code",
   "execution_count": null,
   "metadata": {},
   "outputs": [],
   "source": [
    "# -- select * from routes;\n",
    "\n",
    "# -- insert into routes (date, geom) values ('now'::abstime, 'SRID=4326; POINT(-25.4025905 -49.3124416)');\n",
    "\n",
    "# -- select * from routes;\n",
    "\n",
    "# insert into routes (route_id, date, geom) values (1, 'now'::abstime, 'SRID=4326; POINT(-25.4025905 -49.3124416)')"
   ]
  },
  {
   "cell_type": "code",
   "execution_count": null,
   "metadata": {},
   "outputs": [],
   "source": [
    "# -- alter table test add column geog geography;\n",
    "# -- insert into your_table (geog) values ('SRID=4326;POINT(longitude latitude)');\n",
    "# -- insert into test (geog) values ('SRID=4326;POINT(-25.4025905 -49.3124416)');\n",
    "\n",
    "# -- select * from test;\n",
    "\n",
    "# -- insert into test (name, amount, geog) values ('Esra', 10, ('SRID=4326;POINT(-25.4025905 -49.3124416)'))\n",
    "\n",
    "# -- select geog from test where name like 'Esra';\n",
    "# -- {\"lat\": -25.4025905, \"lon\": -49.3124416},\n",
    "# -- {\"lat\": -23.559798, \"lon\": -46.634971},\n",
    "# -- {\"lat\": 59.3258414, \"lon\": 17.70188},\n",
    "# -- {\"lat\": 54.273901, \"lon\": 18.591889},\n",
    "\n",
    "# -- insert into test (name, amount, geog) values ('Point1', 10, ('SRID=4326;POINT(-25.4025905 -49.3124416)'));\n",
    "# -- insert into test (name, amount, geog) values ('Point2', 10, ('SRID=4326;POINT(-23.559798 -46.634971)'));\n",
    "# -- insert into test (name, amount, geog) values ('Point3', 10, ('SRID=4326;POINT(59.3258414 17.70188)'));\n",
    "# -- insert into test (name, amount, geog) values ('Point4', 10, ('SRID=4326;POINT(54.273901 18.591889)'));\n",
    "\n",
    "# -- select * from test;\n",
    "\n",
    "# -- SELECT ST_Distance_Spheroid(geometry(a.geog), geometry(b.geog)) / 1000. as km\n",
    "# -- FROM test a, test b\n",
    "# -- WHERE a.name='Point1' AND b.name='Point2';\n",
    "\n",
    "# -- SELECT ST_Distance_Spheroid(geometry(a.geog), geometry(b.geog)) / 1000. as km\n",
    "# -- FROM test a, test b\n",
    "# -- WHERE a.name='Point2' AND b.name='Point3';\n",
    "\n",
    "# SELECT ST_Distance_Sphere(geometry(a.geog), geometry(b.geog)) / 1000. as km\n",
    "# FROM test a, test b\n",
    "# WHERE a.name='Point3' AND b.name='Point4';"
   ]
  },
  {
   "cell_type": "code",
   "execution_count": 64,
   "metadata": {},
   "outputs": [
    {
     "data": {
      "text/plain": [
       "'09-08-2019'"
      ]
     },
     "execution_count": 64,
     "metadata": {},
     "output_type": "execute_result"
    }
   ],
   "source": [
    "datetime.datetime.now().strftime(\"%d-%m-%Y\")"
   ]
  },
  {
   "cell_type": "code",
   "execution_count": 2,
   "metadata": {},
   "outputs": [
    {
     "data": {
      "text/plain": [
       "11817.5"
      ]
     },
     "execution_count": 2,
     "metadata": {},
     "output_type": "execute_result"
    }
   ],
   "source": [
    "334.83 + 10927.08 + 555.59"
   ]
  },
  {
   "cell_type": "code",
   "execution_count": null,
   "metadata": {},
   "outputs": [],
   "source": [
    "11814.6"
   ]
  }
 ],
 "metadata": {
  "kernelspec": {
   "display_name": "Python 3",
   "language": "python",
   "name": "python3"
  },
  "language_info": {
   "codemirror_mode": {
    "name": "ipython",
    "version": 3
   },
   "file_extension": ".py",
   "mimetype": "text/x-python",
   "name": "python",
   "nbconvert_exporter": "python",
   "pygments_lexer": "ipython3",
   "version": "3.6.8"
  }
 },
 "nbformat": 4,
 "nbformat_minor": 2
}
